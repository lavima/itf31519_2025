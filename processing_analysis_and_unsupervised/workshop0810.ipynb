{
 "cells": [
  {
   "cell_type": "code",
   "execution_count": 13,
   "id": "528c77ce",
   "metadata": {
    "_cell_guid": "b1076dfc-b9ad-4769-8c92-a6c4dae69d19",
    "_uuid": "8f2839f25d086af736a60e9eeb907d3b93b6e0e5",
    "execution": {
     "iopub.execute_input": "2022-10-21T14:48:39.093105Z",
     "iopub.status.busy": "2022-10-21T14:48:39.092631Z",
     "iopub.status.idle": "2022-10-21T14:48:39.111536Z",
     "shell.execute_reply": "2022-10-21T14:48:39.110483Z"
    },
    "papermill": {
     "duration": 0.02604,
     "end_time": "2022-10-21T14:48:39.113951",
     "exception": false,
     "start_time": "2022-10-21T14:48:39.087911",
     "status": "completed"
    },
    "tags": []
   },
   "outputs": [],
   "source": [
    "import numpy as np # linear algebra\n",
    "import pandas as pd # data processing, CSV file I/O (e.g. pd.read_csv)\n",
    "import matplotlib.pyplot as plt\n",
    "import seaborn as sb\n",
    "\n",
    "from matplotlib.colors import Colormap\n",
    "from sklearn.cluster import KMeans\n",
    "from sklearn.metrics import silhouette_samples, silhouette_score, davies_bouldin_score\n",
    "from sklearn.metrics import rand_score, homogeneity_score, completeness_score, v_measure_score\n",
    "from sklearn.model_selection import train_test_split"
   ]
  },
  {
   "cell_type": "code",
   "execution_count": 5,
   "id": "a6df95d5",
   "metadata": {},
   "outputs": [
    {
     "data": {
      "text/html": [
       "<div>\n",
       "<style scoped>\n",
       "    .dataframe tbody tr th:only-of-type {\n",
       "        vertical-align: middle;\n",
       "    }\n",
       "\n",
       "    .dataframe tbody tr th {\n",
       "        vertical-align: top;\n",
       "    }\n",
       "\n",
       "    .dataframe thead th {\n",
       "        text-align: right;\n",
       "    }\n",
       "</style>\n",
       "<table border=\"1\" class=\"dataframe\">\n",
       "  <thead>\n",
       "    <tr style=\"text-align: right;\">\n",
       "      <th></th>\n",
       "      <th>fixed acidity</th>\n",
       "      <th>volatile acidity</th>\n",
       "      <th>citric acid</th>\n",
       "      <th>residual sugar</th>\n",
       "      <th>chlorides</th>\n",
       "      <th>free sulfur dioxide</th>\n",
       "      <th>total sulfur dioxide</th>\n",
       "      <th>density</th>\n",
       "      <th>pH</th>\n",
       "      <th>sulphates</th>\n",
       "      <th>alcohol</th>\n",
       "      <th>quality</th>\n",
       "    </tr>\n",
       "  </thead>\n",
       "  <tbody>\n",
       "    <tr>\n",
       "      <th>0</th>\n",
       "      <td>7.4</td>\n",
       "      <td>0.70</td>\n",
       "      <td>0.00</td>\n",
       "      <td>1.9</td>\n",
       "      <td>0.076</td>\n",
       "      <td>11.0</td>\n",
       "      <td>34.0</td>\n",
       "      <td>0.9978</td>\n",
       "      <td>3.51</td>\n",
       "      <td>0.56</td>\n",
       "      <td>9.4</td>\n",
       "      <td>5</td>\n",
       "    </tr>\n",
       "    <tr>\n",
       "      <th>1</th>\n",
       "      <td>7.8</td>\n",
       "      <td>0.88</td>\n",
       "      <td>0.00</td>\n",
       "      <td>2.6</td>\n",
       "      <td>0.098</td>\n",
       "      <td>25.0</td>\n",
       "      <td>67.0</td>\n",
       "      <td>0.9968</td>\n",
       "      <td>3.20</td>\n",
       "      <td>0.68</td>\n",
       "      <td>9.8</td>\n",
       "      <td>5</td>\n",
       "    </tr>\n",
       "    <tr>\n",
       "      <th>2</th>\n",
       "      <td>7.8</td>\n",
       "      <td>0.76</td>\n",
       "      <td>0.04</td>\n",
       "      <td>2.3</td>\n",
       "      <td>0.092</td>\n",
       "      <td>15.0</td>\n",
       "      <td>54.0</td>\n",
       "      <td>0.9970</td>\n",
       "      <td>3.26</td>\n",
       "      <td>0.65</td>\n",
       "      <td>9.8</td>\n",
       "      <td>5</td>\n",
       "    </tr>\n",
       "    <tr>\n",
       "      <th>3</th>\n",
       "      <td>11.2</td>\n",
       "      <td>0.28</td>\n",
       "      <td>0.56</td>\n",
       "      <td>1.9</td>\n",
       "      <td>0.075</td>\n",
       "      <td>17.0</td>\n",
       "      <td>60.0</td>\n",
       "      <td>0.9980</td>\n",
       "      <td>3.16</td>\n",
       "      <td>0.58</td>\n",
       "      <td>9.8</td>\n",
       "      <td>6</td>\n",
       "    </tr>\n",
       "    <tr>\n",
       "      <th>4</th>\n",
       "      <td>7.4</td>\n",
       "      <td>0.70</td>\n",
       "      <td>0.00</td>\n",
       "      <td>1.9</td>\n",
       "      <td>0.076</td>\n",
       "      <td>11.0</td>\n",
       "      <td>34.0</td>\n",
       "      <td>0.9978</td>\n",
       "      <td>3.51</td>\n",
       "      <td>0.56</td>\n",
       "      <td>9.4</td>\n",
       "      <td>5</td>\n",
       "    </tr>\n",
       "  </tbody>\n",
       "</table>\n",
       "</div>"
      ],
      "text/plain": [
       "   fixed acidity  volatile acidity  citric acid  residual sugar  chlorides  \\\n",
       "0            7.4              0.70         0.00             1.9      0.076   \n",
       "1            7.8              0.88         0.00             2.6      0.098   \n",
       "2            7.8              0.76         0.04             2.3      0.092   \n",
       "3           11.2              0.28         0.56             1.9      0.075   \n",
       "4            7.4              0.70         0.00             1.9      0.076   \n",
       "\n",
       "   free sulfur dioxide  total sulfur dioxide  density    pH  sulphates  \\\n",
       "0                 11.0                  34.0   0.9978  3.51       0.56   \n",
       "1                 25.0                  67.0   0.9968  3.20       0.68   \n",
       "2                 15.0                  54.0   0.9970  3.26       0.65   \n",
       "3                 17.0                  60.0   0.9980  3.16       0.58   \n",
       "4                 11.0                  34.0   0.9978  3.51       0.56   \n",
       "\n",
       "   alcohol  quality  \n",
       "0      9.4        5  \n",
       "1      9.8        5  \n",
       "2      9.8        5  \n",
       "3      9.8        6  \n",
       "4      9.4        5  "
      ]
     },
     "execution_count": 5,
     "metadata": {},
     "output_type": "execute_result"
    }
   ],
   "source": [
    "dataset_red = pd.read_csv('../data/wine_quality/winequality-red.csv', delimiter=';')\n",
    "dataset_red.head()"
   ]
  },
  {
   "cell_type": "code",
   "execution_count": null,
   "id": "e4bb0413",
   "metadata": {},
   "outputs": [],
   "source": [
    "dataset_red_train, dataset_red_test = train_test_split(dataset_red, test_size=0.2, stratify=dataset_red['quality'])\n",
    "dataset_red_train_features = dataset_red_train.drop('quality', axis=1)\n",
    "dataset_red_test_features = dataset_red_test.drop('quality', axis=1)\n",
    "dataset_red_train_targets = dataset_red_train['quality']\n",
    "dataset_red_test_targets = dataset_red_test['quality']\n"
   ]
  },
  {
   "cell_type": "code",
   "execution_count": null,
   "id": "be1a7387",
   "metadata": {},
   "outputs": [],
   "source": [
    "def evaluate_internal(model, X, y):\n",
    "    predictions = model.predict(X)\n",
    "    silhouette = silhouette_score(X, predictions)\n",
    "    davies_bouldin = davies_bouldin_score(X, predictions)\n",
    "    print(f'Silhouette: {silhouette:.3f}')\n",
    "    print(f'Davies Boulding: {davies_bouldin:.3f}')\n",
    "\n",
    "def evaluate_external(model, X, y):\n",
    "    predictions = model.predict(X)\n",
    "    rand = rand_score(y, predictions)\n",
    "    homogeneity = homogeneity_score(y, predictions)\n",
    "    completeness = completeness_score(y, predictions)\n",
    "    v_measure = v_measure_score(y, predictions)\n",
    "    print(f'Rand Index: {rand:.3f}')\n",
    "    print(f'Homogeneity: {homogeneity:.3f}')\n",
    "    print(f'Completeness: {completeness:.3f}')\n",
    "    print(f'V-measure: {v_measure:.3f}')\n",
    "\n"
   ]
  },
  {
   "cell_type": "code",
   "execution_count": 22,
   "id": "5a45629a",
   "metadata": {},
   "outputs": [],
   "source": [
    "n_clusters = dataset_red_train_targets.value_counts().shape[0]"
   ]
  },
  {
   "cell_type": "code",
   "execution_count": 26,
   "id": "4bde01a2",
   "metadata": {},
   "outputs": [
    {
     "name": "stdout",
     "output_type": "stream",
     "text": [
      "Rand Index: 0.562\n",
      "Homogeneity: 0.047\n",
      "Completeness: 0.039\n",
      "V-measure: 0.043\n"
     ]
    }
   ],
   "source": [
    "km1 = KMeans(n_clusters=n_clusters)\n",
    "km1.fit(dataset_red_train_features)\n",
    "evaluate_external(km1, dataset_red_train_features, dataset_red_train_targets)"
   ]
  },
  {
   "cell_type": "code",
   "execution_count": 32,
   "id": "29285c0d",
   "metadata": {},
   "outputs": [
    {
     "data": {
      "text/plain": [
       "[<matplotlib.lines.Line2D at 0x724fc8f7d810>]"
      ]
     },
     "execution_count": 32,
     "metadata": {},
     "output_type": "execute_result"
    },
    {
     "data": {
      "image/png": "[encoded data removed]",
      "text/plain": [
       "<Figure size 1000x500 with 2 Axes>"
      ]
     },
     "metadata": {},
     "output_type": "display_data"
    }
   ],
   "source": [
    "scores_inertia = []\n",
    "scores_silhouette = []\n",
    "n_clusters_to_test = range(2,10)\n",
    "for n in n_clusters_to_test:\n",
    "    km = KMeans(n_clusters=n).fit(dataset_red_train_features)\n",
    "    scores_inertia.append(km.inertia_) \n",
    "    scores_silhouette.append(silhouette_score(dataset_red_train_features, km.predict(dataset_red_train_features))) \n",
    "fig, ax = plt.subplots(1,2, figsize=(10,5))\n",
    "ax[0].plot(n_clusters_to_test, scores_inertia)\n",
    "ax[1].plot(n_clusters_to_test, scores_silhouette)\n"
   ]
  },
  {
   "cell_type": "code",
   "execution_count": null,
   "id": "bf715b86",
   "metadata": {},
   "outputs": [
    {
     "data": {
      "image/png": "[encoded data removed]",
      "text/plain": [
       "<Figure size 640x480 with 8 Axes>"
      ]
     },
     "metadata": {},
     "output_type": "display_data"
    }
   ],
   "source": [
    "fig, ax = plt.subplots(2,4)\n",
    "n_clusters_to_test = range(2,10)\n",
    "for n in n_clusters_to_test:\n",
    "    km = KMeans(n_clusters=n).fit(dataset_red_train_features) \n",
    "    silhouette_average = silhouette_score(dataset_red_train_features, km.predict(dataset_red_train_features))\n",
    "    silhouette_average = silhouette_samples(dataset_red_train_features, km.predict(dataset_red_train_features))\n",
    "    x_start = 0\n",
    "    for cluster_i in range(n):"
   ]
  }
 ],
 "metadata": {
  "kernelspec": {
   "display_name": "ml",
   "language": "python",
   "name": "python3"
  },
  "language_info": {
   "codemirror_mode": {
    "name": "ipython",
    "version": 3
   },
   "file_extension": ".py",
   "mimetype": "text/x-python",
   "name": "python",
   "nbconvert_exporter": "python",
   "pygments_lexer": "ipython3",
   "version": "3.13.3"
  },
  "papermill": {
   "default_parameters": {},
   "duration": 10.424993,
   "end_time": "2022-10-21T14:48:41.983463",
   "environment_variables": {},
   "exception": null,
   "input_path": "__notebook__.ipynb",
   "output_path": "__notebook__.ipynb",
   "parameters": {},
   "start_time": "2022-10-21T14:48:31.558470",
   "version": "2.3.4"
  }
 },
 "nbformat": 4,
 "nbformat_minor": 5
}
